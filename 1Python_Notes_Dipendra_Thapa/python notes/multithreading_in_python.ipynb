{
 "cells": [
  {
   "cell_type": "markdown",
   "metadata": {},
   "source": [
    "# Multithreading In Python"
   ]
  },
  {
   "cell_type": "markdown",
   "metadata": {},
   "source": [
    "* Multithreading in Python allows you to run multiple threads (smaller units of a process) concurrently.\n",
    "\n",
    "* Multithreading can be useful for IO-bound tasks like reading or writing to a file or making network requests."
   ]
  },
  {
   "cell_type": "markdown",
   "metadata": {},
   "source": [
    "### Basics of Multithreading\n",
    "    \n",
    "* Thread: A separate flow of execution. Think of it as a separate program running alongside your main program.\n",
    "    \n",
    "* Threading Module: A high-level module for threading support."
   ]
  },
  {
   "cell_type": "markdown",
   "metadata": {},
   "source": [
    "### Using the threading Module\n",
    "* Creating and Starting Threads:\n",
    "\n",
    "    * You can create a thread by creating an instance of the Thread class, passing it a target function to execute."
   ]
  },
  {
   "cell_type": "code",
   "execution_count": 4,
   "metadata": {},
   "outputs": [
    {
     "name": "stdout",
     "output_type": "stream",
     "text": [
      "1\n",
      "a\n",
      "2\n",
      "3\n",
      "b\n",
      "4\n",
      "c\n",
      "5\n",
      "d\n",
      "e\n",
      "Both threads have finished execution\n"
     ]
    }
   ],
   "source": [
    "import threading\n",
    "import time\n",
    "\n",
    "def print_numbers():\n",
    "    for i in range(1, 6):\n",
    "        time.sleep(1)\n",
    "        print(i)\n",
    "\n",
    "def print_letters():\n",
    "    for letter in 'abcde':\n",
    "        time.sleep(1.5)\n",
    "        print(letter)\n",
    "\n",
    "# Create threads\n",
    "thread1 = threading.Thread(target=print_numbers)\n",
    "thread2 = threading.Thread(target=print_letters)\n",
    "\n",
    "# Start threads\n",
    "thread1.start()\n",
    "thread2.start()\n",
    "\n",
    "# Wait for threads to complete\n",
    "thread1.join()\n",
    "thread2.join()\n",
    "\n",
    "print(\"Both threads have finished execution\")\n"
   ]
  },
  {
   "cell_type": "markdown",
   "metadata": {},
   "source": [
    "### Using Thread Subclass\n",
    "* You can also create a thread by subclassing threading.Thread and overriding its run method."
   ]
  },
  {
   "cell_type": "code",
   "execution_count": 5,
   "metadata": {},
   "outputs": [
    {
     "name": "stdout",
     "output_type": "stream",
     "text": [
      "1\n",
      "a\n",
      "2\n",
      "b\n",
      "3\n",
      "4\n",
      "c\n",
      "5\n",
      "d\n",
      "e\n",
      "Both threads have finished execution\n"
     ]
    }
   ],
   "source": [
    "import threading\n",
    "import time\n",
    "\n",
    "class NumberThread(threading.Thread):\n",
    "    def run(self):\n",
    "        for i in range(1, 6):\n",
    "            time.sleep(1)\n",
    "            print(i)\n",
    "\n",
    "class LetterThread(threading.Thread):\n",
    "    def run(self):\n",
    "        for letter in 'abcde':\n",
    "            time.sleep(1.5)\n",
    "            print(letter)\n",
    "\n",
    "# Create thread instances\n",
    "thread1 = NumberThread()\n",
    "thread2 = LetterThread()\n",
    "\n",
    "# Start threads\n",
    "thread1.start()\n",
    "thread2.start()\n",
    "\n",
    "# Wait for threads to complete\n",
    "thread1.join()\n",
    "thread2.join()\n",
    "\n",
    "print(\"Both threads have finished execution\")\n"
   ]
  }
 ],
 "metadata": {
  "kernelspec": {
   "display_name": "Python 3",
   "language": "python",
   "name": "python3"
  },
  "language_info": {
   "codemirror_mode": {
    "name": "ipython",
    "version": 3
   },
   "file_extension": ".py",
   "mimetype": "text/x-python",
   "name": "python",
   "nbconvert_exporter": "python",
   "pygments_lexer": "ipython3",
   "version": "3.10.12"
  }
 },
 "nbformat": 4,
 "nbformat_minor": 2
}
